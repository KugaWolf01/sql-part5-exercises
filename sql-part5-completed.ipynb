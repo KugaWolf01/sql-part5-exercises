{
    "metadata": {
        "kernelspec": {
            "name": "SQL",
            "display_name": "SQL",
            "language": "sql"
        },
        "language_info": {
            "name": "sql",
            "version": ""
        }
    },
    "nbformat_minor": 2,
    "nbformat": 4,
    "cells": [
        {
            "cell_type": "markdown",
            "source": [
                "# Exercises: Creating, Updating, and Destroying Objects\n",
                "\n",
                "For the exercises, you will be working with objects and data you create. Before opening this notebook, make sure that you have set up the new connection to the server and that you have located the database and your schema.\n",
                "\n",
                "## Object Creation\n",
                "\n",
                "Before coding, think of three things you want to make. These could be coding projects, new recipes, or planned projects for a woodworking hobby. Brainstorm the appropriate column names and data types as well.\n",
                "\n",
                "Create a table under your schema called `planned_makes`."
            ],
            "metadata": {
                "azdata_cell_guid": "9d51c166-0c19-4f27-a422-2a6cf596bfb2"
            },
            "attachments": {}
        },
        {
            "cell_type": "code",
            "source": [
                "--scratch pad: \r\n",
                "--table one: planned sewing projects: columns: project, beneficiary, culture, status (planned, started, in progress, complete); strings\r\n",
                "--table two: writing paper projects: project, event its for, culture, status; strings\r\n",
                "\r\n",
                "\r\n",
                "CREATE TABLE [JunkDB_stl_May2023].[planned_makes].[Sewing_Projects](\r\n",
                "    Project_ID INT PRIMARY KEY,\r\n",
                "    Project_Type CHAR,\r\n",
                "    Culture CHAR,\r\n",
                "    Project_Status CHAR\r\n",
                ");\r\n",
                "\r\n",
                "CREATE TABLE [JunkDB_stl_May2023].[planned_makes].[Writing_Projects](\r\n",
                "    Project_ID INT PRIMARY KEY,\r\n",
                "    Project_Title CHAR,\r\n",
                "    Planned_Event CHAR,\r\n",
                "    Culture CHAR,\r\n",
                "    Project_Status CHAR,\r\n",
                ");\r\n",
                ""
            ],
            "metadata": {
                "azdata_cell_guid": "d9238911-6f81-4f01-980d-b584307effaf",
                "language": "sql"
            },
            "outputs": [
                {
                    "output_type": "error",
                    "evalue": "Msg 2760, Level 16, State 1, Line 6\r\nThe specified schema name \"planned_makes\" either does not exist or you do not have permission to use it.",
                    "ename": "",
                    "traceback": []
                },
                {
                    "output_type": "display_data",
                    "data": {
                        "text/html": "Total execution time: 00:00:00.034"
                    },
                    "metadata": {}
                }
            ],
            "execution_count": 1
        },
        {
            "cell_type": "markdown",
            "source": [
                "Add three rows to your table that are your planned makes."
            ],
            "metadata": {
                "azdata_cell_guid": "83cdf34d-8c4f-4fa1-a14e-77384b19d734"
            }
        },
        {
            "cell_type": "code",
            "source": [
                "-- Inserting rows into Sewing_Projects table\r\n",
                "INSERT INTO [JunkDB_stl_May2023].[planned_makes].[Sewing_Projects] (Project_ID, Project_Name, Culture, Project_Status)\r\n",
                "VALUES \r\n",
                "(1, 'Hood', 'Anglo-Saxon', 'Complete');\r\n",
                "(2, 'Tunica', 'Roman', 'In Progress'),\r\n",
                "(3, 'Hood', 'Anglo-Saxon', 'In Progress');\r\n",
                "(4, 'Minoan outfit', 'Minoan', 'Complete')\r\n",
                "\r\n",
                "INSERT INTO [JunkDB_stl_May2023].[planned_makes].[Writing_Projects] (Project_ID, Project_Name, Culture, Project_Status)\r\n",
                "VALUES \r\n",
                "(1, 'Minoan Womens Dress', 'Minoan', 'Not Started');\r\n",
                "(2, 'Name Projects', 'Israelite', 'In Progress'),\r\n",
                "(3, 'History of Pennsic University', 'SCA today', 'Completed');\r\n",
                ""
            ],
            "metadata": {
                "azdata_cell_guid": "e7cff9cb-87ba-4c7b-98f2-eaf445e8719c",
                "language": "sql"
            },
            "outputs": [],
            "execution_count": null
        },
        {
            "cell_type": "markdown",
            "source": [
                "## Update a Row\n",
                "\n",
                "Change different values in one of your three rows."
            ],
            "metadata": {
                "azdata_cell_guid": "4a39b8d4-ae97-4e09-8336-c5fc6a00d76c"
            },
            "attachments": {}
        },
        {
            "cell_type": "code",
            "source": [
                "UPDATE [JunkDB_stl_May2023].[planned_makes].[Sewing_Projects]\r\n",
                "SET Project_Name = 'Pants', Culture = 'Anglo-Saxon', Status = 'Not Started'\r\n",
                "WHERE Project_ID = 3;\r\n",
                ""
            ],
            "metadata": {
                "azdata_cell_guid": "7409c695-9581-4ad8-b03a-574d2c4c87cb",
                "language": "sql"
            },
            "outputs": [],
            "execution_count": null
        },
        {
            "cell_type": "markdown",
            "source": [
                "## Delete a Row\n",
                "\n",
                "Delete one of the rows from your table."
            ],
            "metadata": {
                "azdata_cell_guid": "95e91a6e-9038-42d9-9401-5738842aba17"
            }
        },
        {
            "cell_type": "code",
            "source": [
                "UPDATE [JunkDB_stl_May2023].[planned_makes].[Sewing_Projects]\r\n",
                "DELETE FROM [].[planned_makes].[Sewing_Projects]\r\n",
                "WHERE Project_ID = 2;\r\n",
                ""
            ],
            "metadata": {
                "azdata_cell_guid": "749c748f-19b5-4c69-9004-b6b20216616a",
                "language": "sql"
            },
            "outputs": [],
            "execution_count": null
        },
        {
            "cell_type": "markdown",
            "source": [
                "## Drop the Table\n",
                "\n",
                "While this has been fun, it is time to drop the table!"
            ],
            "metadata": {
                "azdata_cell_guid": "2239cb09-137b-4579-905b-1aa020793181"
            },
            "attachments": {}
        },
        {
            "cell_type": "code",
            "source": [
                "DROP TABLE [JunkDB_stl_May2023].[planned_makes].[Sewing_Projects];\r\n",
                "\r\n",
                "DROP TABLE [JunkDB_stl_May2023].[planned_makes].[Writing_Projects];\r\n",
                ""
            ],
            "metadata": {
                "azdata_cell_guid": "b3c7f6ea-ee26-46b3-9c2a-2f7a82c39699",
                "language": "sql"
            },
            "outputs": [],
            "execution_count": null
        }
    ]
}